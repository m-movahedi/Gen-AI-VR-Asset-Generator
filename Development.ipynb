{
 "cells": [
  {
   "cell_type": "code",
   "execution_count": 1,
   "id": "d01b766b",
   "metadata": {},
   "outputs": [
    {
     "name": "stderr",
     "output_type": "stream",
     "text": [
      "<>:4: SyntaxWarning: invalid escape sequence '\\F'\n",
      "<>:4: SyntaxWarning: invalid escape sequence '\\F'\n",
      "C:\\Users\\moham\\AppData\\Local\\Temp\\ipykernel_75152\\40312743.py:4: SyntaxWarning: invalid escape sequence '\\F'\n",
      "  ifc_file = ifcopenshell.open('Sample\\Fire Pump Room\\Fire Pump Room Revit 2019.ifc')\n"
     ]
    },
    {
     "name": "stdout",
     "output_type": "stream",
     "text": [
      "Collecting ifcopenshell\n",
      "  Downloading ifcopenshell-0.8.2-py312-none-win_amd64.whl.metadata (11 kB)\n",
      "Requirement already satisfied: shapely in c:\\users\\moham\\appdata\\local\\programs\\python\\python312\\lib\\site-packages (from ifcopenshell) (2.0.6)\n",
      "Requirement already satisfied: numpy in c:\\users\\moham\\appdata\\local\\programs\\python\\python312\\lib\\site-packages (from ifcopenshell) (2.0.1)\n",
      "Collecting isodate (from ifcopenshell)\n",
      "  Downloading isodate-0.7.2-py3-none-any.whl.metadata (11 kB)\n",
      "Requirement already satisfied: python-dateutil in c:\\users\\moham\\appdata\\roaming\\python\\python312\\site-packages (from ifcopenshell) (2.9.0.post0)\n",
      "Collecting lark (from ifcopenshell)\n",
      "  Downloading lark-1.2.2-py3-none-any.whl.metadata (1.8 kB)\n",
      "Requirement already satisfied: typing-extensions in c:\\users\\moham\\appdata\\local\\programs\\python\\python312\\lib\\site-packages (from ifcopenshell) (4.12.2)\n",
      "Requirement already satisfied: six>=1.5 in c:\\users\\moham\\appdata\\roaming\\python\\python312\\site-packages (from python-dateutil->ifcopenshell) (1.16.0)\n",
      "Downloading ifcopenshell-0.8.2-py312-none-win_amd64.whl (21.5 MB)\n",
      "   ---------------------------------------- 0.0/21.5 MB ? eta -:--:--\n",
      "   ---------------------------------------- 0.0/21.5 MB ? eta -:--:--\n",
      "   ---------------------------------------- 0.0/21.5 MB ? eta -:--:--\n",
      "   ---------------------------------------- 0.0/21.5 MB ? eta -:--:--\n",
      "   ---------------------------------------- 0.0/21.5 MB ? eta -:--:--\n",
      "   ---------------------------------------- 0.0/21.5 MB ? eta -:--:--\n",
      "   ---------------------------------------- 0.0/21.5 MB ? eta -:--:--\n",
      "   ---------------------------------------- 0.0/21.5 MB ? eta -:--:--\n",
      "   ---------------------------------------- 0.0/21.5 MB ? eta -:--:--\n",
      "   ---------------------------------------- 0.3/21.5 MB ? eta -:--:--\n",
      "   ---------------------------------------- 0.3/21.5 MB ? eta -:--:--\n",
      "   ---------------------------------------- 0.3/21.5 MB ? eta -:--:--\n",
      "   ---------------------------------------- 0.3/21.5 MB ? eta -:--:--\n",
      "    --------------------------------------- 0.5/21.5 MB 311.0 kB/s eta 0:01:08\n",
      "    --------------------------------------- 0.5/21.5 MB 311.0 kB/s eta 0:01:08\n",
      "    --------------------------------------- 0.5/21.5 MB 311.0 kB/s eta 0:01:08\n",
      "    --------------------------------------- 0.5/21.5 MB 311.0 kB/s eta 0:01:08\n",
      "   - -------------------------------------- 0.8/21.5 MB 313.8 kB/s eta 0:01:06\n",
      "   - -------------------------------------- 0.8/21.5 MB 313.8 kB/s eta 0:01:06\n",
      "   - -------------------------------------- 0.8/21.5 MB 313.8 kB/s eta 0:01:06\n",
      "   - -------------------------------------- 0.8/21.5 MB 313.8 kB/s eta 0:01:06\n",
      "   - -------------------------------------- 1.0/21.5 MB 314.6 kB/s eta 0:01:05\n",
      "   - -------------------------------------- 1.0/21.5 MB 314.6 kB/s eta 0:01:05\n",
      "   - -------------------------------------- 1.0/21.5 MB 314.6 kB/s eta 0:01:05\n",
      "   - -------------------------------------- 1.0/21.5 MB 314.6 kB/s eta 0:01:05\n",
      "   - -------------------------------------- 1.0/21.5 MB 314.6 kB/s eta 0:01:05\n",
      "   -- ------------------------------------- 1.3/21.5 MB 293.1 kB/s eta 0:01:09\n",
      "   -- ------------------------------------- 1.6/21.5 MB 335.6 kB/s eta 0:01:00\n",
      "   -- ------------------------------------- 1.6/21.5 MB 335.6 kB/s eta 0:01:00\n",
      "   --- ------------------------------------ 1.8/21.5 MB 377.1 kB/s eta 0:00:53\n",
      "   --- ------------------------------------ 2.1/21.5 MB 412.1 kB/s eta 0:00:48\n",
      "   ---- ----------------------------------- 2.4/21.5 MB 452.0 kB/s eta 0:00:43\n",
      "   ---- ----------------------------------- 2.6/21.5 MB 482.5 kB/s eta 0:00:40\n",
      "   ----- ---------------------------------- 2.9/21.5 MB 516.2 kB/s eta 0:00:37\n",
      "   ----- ---------------------------------- 2.9/21.5 MB 516.2 kB/s eta 0:00:37\n",
      "   ----- ---------------------------------- 3.1/21.5 MB 521.3 kB/s eta 0:00:36\n",
      "   ----- ---------------------------------- 3.1/21.5 MB 521.3 kB/s eta 0:00:36\n",
      "   ------ --------------------------------- 3.4/21.5 MB 528.4 kB/s eta 0:00:35\n",
      "   ------ --------------------------------- 3.4/21.5 MB 528.4 kB/s eta 0:00:35\n",
      "   ------ --------------------------------- 3.7/21.5 MB 534.6 kB/s eta 0:00:34\n",
      "   ------- -------------------------------- 3.9/21.5 MB 555.3 kB/s eta 0:00:32\n",
      "   ------- -------------------------------- 3.9/21.5 MB 555.3 kB/s eta 0:00:32\n",
      "   ------- -------------------------------- 4.2/21.5 MB 573.3 kB/s eta 0:00:31\n",
      "   ------- -------------------------------- 4.2/21.5 MB 573.3 kB/s eta 0:00:31\n",
      "   ------- -------------------------------- 4.2/21.5 MB 573.3 kB/s eta 0:00:31\n",
      "   ------- -------------------------------- 4.2/21.5 MB 573.3 kB/s eta 0:00:31\n",
      "   ------- -------------------------------- 4.2/21.5 MB 573.3 kB/s eta 0:00:31\n",
      "   ------- -------------------------------- 4.2/21.5 MB 573.3 kB/s eta 0:00:31\n",
      "   -------- ------------------------------- 4.5/21.5 MB 512.3 kB/s eta 0:00:34\n",
      "   -------- ------------------------------- 4.5/21.5 MB 512.3 kB/s eta 0:00:34\n",
      "   -------- ------------------------------- 4.5/21.5 MB 512.3 kB/s eta 0:00:34\n",
      "   -------- ------------------------------- 4.5/21.5 MB 512.3 kB/s eta 0:00:34\n",
      "   -------- ------------------------------- 4.5/21.5 MB 512.3 kB/s eta 0:00:34\n",
      "   -------- ------------------------------- 4.5/21.5 MB 512.3 kB/s eta 0:00:34\n",
      "   -------- ------------------------------- 4.5/21.5 MB 512.3 kB/s eta 0:00:34\n",
      "   -------- ------------------------------- 4.7/21.5 MB 460.8 kB/s eta 0:00:37\n",
      "   -------- ------------------------------- 4.7/21.5 MB 460.8 kB/s eta 0:00:37\n",
      "   -------- ------------------------------- 4.7/21.5 MB 460.8 kB/s eta 0:00:37\n",
      "   -------- ------------------------------- 4.7/21.5 MB 460.8 kB/s eta 0:00:37\n",
      "   --------- ------------------------------ 5.0/21.5 MB 450.1 kB/s eta 0:00:37\n",
      "   --------- ------------------------------ 5.0/21.5 MB 450.1 kB/s eta 0:00:37\n",
      "   --------- ------------------------------ 5.2/21.5 MB 454.1 kB/s eta 0:00:36\n",
      "   --------- ------------------------------ 5.2/21.5 MB 454.1 kB/s eta 0:00:36\n",
      "   ---------- ----------------------------- 5.5/21.5 MB 457.8 kB/s eta 0:00:35\n",
      "   ---------- ----------------------------- 5.5/21.5 MB 457.8 kB/s eta 0:00:35\n",
      "   ---------- ----------------------------- 5.5/21.5 MB 457.8 kB/s eta 0:00:35\n",
      "   ---------- ----------------------------- 5.8/21.5 MB 462.4 kB/s eta 0:00:34\n",
      "   ----------- ---------------------------- 6.0/21.5 MB 470.8 kB/s eta 0:00:33\n",
      "   ----------- ---------------------------- 6.3/21.5 MB 484.2 kB/s eta 0:00:32\n",
      "   ------------ --------------------------- 6.6/21.5 MB 495.9 kB/s eta 0:00:31\n",
      "   ------------ --------------------------- 6.8/21.5 MB 508.4 kB/s eta 0:00:29\n",
      "   ------------ --------------------------- 6.8/21.5 MB 508.4 kB/s eta 0:00:29\n",
      "   ------------ --------------------------- 6.8/21.5 MB 508.4 kB/s eta 0:00:29\n",
      "   ------------- -------------------------- 7.1/21.5 MB 505.5 kB/s eta 0:00:29\n",
      "   ------------- -------------------------- 7.3/21.5 MB 518.3 kB/s eta 0:00:28\n",
      "   -------------- ------------------------- 7.6/21.5 MB 524.9 kB/s eta 0:00:27\n",
      "   -------------- ------------------------- 7.6/21.5 MB 524.9 kB/s eta 0:00:27\n",
      "   -------------- ------------------------- 7.9/21.5 MB 529.4 kB/s eta 0:00:26\n",
      "   --------------- ------------------------ 8.1/21.5 MB 540.1 kB/s eta 0:00:25\n",
      "   --------------- ------------------------ 8.4/21.5 MB 552.1 kB/s eta 0:00:24\n",
      "   ---------------- ----------------------- 8.9/21.5 MB 576.7 kB/s eta 0:00:22\n",
      "   ----------------- ---------------------- 9.4/21.5 MB 603.5 kB/s eta 0:00:20\n",
      "   ------------------ --------------------- 10.0/21.5 MB 626.4 kB/s eta 0:00:19\n",
      "   ------------------- -------------------- 10.2/21.5 MB 634.4 kB/s eta 0:00:18\n",
      "   ------------------- -------------------- 10.5/21.5 MB 644.0 kB/s eta 0:00:18\n",
      "   -------------------- ------------------- 11.0/21.5 MB 668.5 kB/s eta 0:00:16\n",
      "   -------------------- ------------------- 11.3/21.5 MB 678.9 kB/s eta 0:00:16\n",
      "   --------------------- ------------------ 11.8/21.5 MB 698.4 kB/s eta 0:00:14\n",
      "   ---------------------- ----------------- 12.3/21.5 MB 720.6 kB/s eta 0:00:13\n",
      "   ----------------------- ---------------- 12.6/21.5 MB 728.1 kB/s eta 0:00:13\n",
      "   ----------------------- ---------------- 12.8/21.5 MB 736.8 kB/s eta 0:00:12\n",
      "   ------------------------ --------------- 13.4/21.5 MB 755.8 kB/s eta 0:00:11\n",
      "   ------------------------- -------------- 13.9/21.5 MB 775.5 kB/s eta 0:00:10\n",
      "   -------------------------- ------------- 14.2/21.5 MB 780.7 kB/s eta 0:00:10\n",
      "   -------------------------- ------------- 14.4/21.5 MB 788.5 kB/s eta 0:00:09\n",
      "   --------------------------- ------------ 14.9/21.5 MB 805.1 kB/s eta 0:00:09\n",
      "   ---------------------------- ----------- 15.2/21.5 MB 815.3 kB/s eta 0:00:08\n",
      "   ----------------------------- ---------- 15.7/21.5 MB 831.8 kB/s eta 0:00:07\n",
      "   ----------------------------- ---------- 16.0/21.5 MB 839.6 kB/s eta 0:00:07\n",
      "   ------------------------------ --------- 16.3/21.5 MB 842.3 kB/s eta 0:00:07\n",
      "   ------------------------------ --------- 16.5/21.5 MB 845.7 kB/s eta 0:00:06\n",
      "   ------------------------------ --------- 16.5/21.5 MB 845.7 kB/s eta 0:00:06\n",
      "   ------------------------------- -------- 16.8/21.5 MB 838.2 kB/s eta 0:00:06\n",
      "   ------------------------------- -------- 17.0/21.5 MB 842.8 kB/s eta 0:00:06\n",
      "   ------------------------------- -------- 17.0/21.5 MB 842.8 kB/s eta 0:00:06\n",
      "   -------------------------------- ------- 17.3/21.5 MB 845.4 kB/s eta 0:00:05\n",
      "   --------------------------------- ------ 17.8/21.5 MB 856.8 kB/s eta 0:00:05\n",
      "   --------------------------------- ------ 18.1/21.5 MB 860.4 kB/s eta 0:00:04\n",
      "   ---------------------------------- ----- 18.4/21.5 MB 864.6 kB/s eta 0:00:04\n",
      "   ---------------------------------- ----- 18.4/21.5 MB 864.6 kB/s eta 0:00:04\n",
      "   ---------------------------------- ----- 18.6/21.5 MB 859.8 kB/s eta 0:00:04\n",
      "   ----------------------------------- ---- 18.9/21.5 MB 860.1 kB/s eta 0:00:04\n",
      "   ----------------------------------- ---- 19.1/21.5 MB 864.1 kB/s eta 0:00:03\n",
      "   ------------------------------------ --- 19.4/21.5 MB 868.6 kB/s eta 0:00:03\n",
      "   ------------------------------------ --- 19.7/21.5 MB 875.5 kB/s eta 0:00:03\n",
      "   ------------------------------------- -- 19.9/21.5 MB 879.3 kB/s eta 0:00:02\n",
      "   -------------------------------------- - 20.4/21.5 MB 889.7 kB/s eta 0:00:02\n",
      "   ---------------------------------------  21.0/21.5 MB 903.5 kB/s eta 0:00:01\n",
      "   ---------------------------------------  21.2/21.5 MB 908.7 kB/s eta 0:00:01\n",
      "   ---------------------------------------  21.2/21.5 MB 908.7 kB/s eta 0:00:01\n",
      "   ---------------------------------------- 21.5/21.5 MB 903.3 kB/s eta 0:00:00\n",
      "Downloading isodate-0.7.2-py3-none-any.whl (22 kB)\n",
      "Downloading lark-1.2.2-py3-none-any.whl (111 kB)\n",
      "Installing collected packages: lark, isodate, ifcopenshell\n",
      "Successfully installed ifcopenshell-0.8.2 isodate-0.7.2 lark-1.2.2\n"
     ]
    },
    {
     "name": "stderr",
     "output_type": "stream",
     "text": [
      "\n",
      "[notice] A new release of pip is available: 24.2 -> 25.1.1\n",
      "[notice] To update, run: python.exe -m pip install --upgrade pip\n"
     ]
    }
   ],
   "source": [
    "!pip install ifcopenshell\n",
    "\n",
    "import ifcopenshell\n",
    "ifc_file = ifcopenshell.open('Sample\\Fire Pump Room\\Fire Pump Room Revit 2019.ifc')\n",
    "types = set(entity.is_a() for entity in ifc_file)"
   ]
  },
  {
   "cell_type": "code",
   "execution_count": 2,
   "id": "39ea104f",
   "metadata": {},
   "outputs": [
    {
     "data": {
      "text/plain": [
       "{'id': 1308,\n",
       " 'type': 'IfcPipeFittingType',\n",
       " 'GlobalId': '1FI1NdEM92$x0VSADubA$O',\n",
       " 'OwnerHistory': #20=IfcOwnerHistory(#19,#2,$,.NOCHANGE.,$,$,$,1695462290),\n",
       " 'Name': 'NamBk_VAC_Steel_Elbow_Welded (Long_Short Radius):Long Radius',\n",
       " 'Description': None,\n",
       " 'ApplicableOccurrence': None,\n",
       " 'HasPropertySets': (#1330=IfcPropertySet('2FtbPhF6b8tjrf26iouZfM',#20,'Pset_ProductRequirements',$,(#1329)),),\n",
       " 'RepresentationMaps': (#1307=IfcRepresentationMap(#1306,#1305),),\n",
       " 'Tag': '933778',\n",
       " 'ElementType': None,\n",
       " 'PredefinedType': 'NOTDEFINED'}"
      ]
     },
     "execution_count": 2,
     "metadata": {},
     "output_type": "execute_result"
    }
   ],
   "source": [
    "type = 'IfcPipeFittingType'\n",
    "component = ifc_file.by_type(type)\n",
    "component[0].get_info()"
   ]
  },
  {
   "cell_type": "code",
   "execution_count": null,
   "id": "3767435e",
   "metadata": {},
   "outputs": [
    {
     "data": {
      "text/plain": [
       "[]"
      ]
     },
     "execution_count": 5,
     "metadata": {},
     "output_type": "execute_result"
    }
   ],
   "source": [
    "ifc_file."
   ]
  },
  {
   "cell_type": "code",
   "execution_count": 4,
   "id": "e7479eca",
   "metadata": {},
   "outputs": [
    {
     "data": {
      "text/plain": [
       "#1309=IfcMaterialList((#146,#146))"
      ]
     },
     "execution_count": 4,
     "metadata": {},
     "output_type": "execute_result"
    }
   ],
   "source": [
    "import ifcopenshell.util.element\n",
    "ifc_material = ifcopenshell.util.element.get_material(component[0])\n",
    "ifc_material"
   ]
  },
  {
   "cell_type": "code",
   "execution_count": null,
   "id": "6d492fbf",
   "metadata": {},
   "outputs": [
    {
     "ename": "AttributeError",
     "evalue": "entity instance of type 'IFC2X3.IfcMaterialList' has no attribute 'Name'",
     "output_type": "error",
     "traceback": [
      "\u001b[1;31m---------------------------------------------------------------------------\u001b[0m",
      "\u001b[1;31mAttributeError\u001b[0m                            Traceback (most recent call last)",
      "\u001b[1;32m~\\AppData\\Local\\Temp/ipykernel_2200/3906762348.py\u001b[0m in \u001b[0;36m<module>\u001b[1;34m\u001b[0m\n\u001b[0;32m      1\u001b[0m \u001b[1;32mif\u001b[0m \u001b[0mifc_material\u001b[0m\u001b[1;33m[\u001b[0m\u001b[1;36m0\u001b[0m\u001b[1;33m]\u001b[0m\u001b[1;33m[\u001b[0m\u001b[1;36m0\u001b[0m\u001b[1;33m]\u001b[0m\u001b[1;33m.\u001b[0m\u001b[0mis_a\u001b[0m\u001b[1;33m(\u001b[0m\u001b[1;34m\"IfcMaterial\"\u001b[0m\u001b[1;33m)\u001b[0m\u001b[1;33m:\u001b[0m\u001b[1;33m\u001b[0m\u001b[1;33m\u001b[0m\u001b[0m\n\u001b[0;32m      2\u001b[0m     \u001b[1;31m# If it's a single material, print its name and thickness\u001b[0m\u001b[1;33m\u001b[0m\u001b[1;33m\u001b[0m\u001b[0m\n\u001b[1;32m----> 3\u001b[1;33m     \u001b[0mprint\u001b[0m\u001b[1;33m(\u001b[0m\u001b[1;34mf\"Material Name: {ifc_material.Name}\"\u001b[0m\u001b[1;33m)\u001b[0m\u001b[1;33m\u001b[0m\u001b[1;33m\u001b[0m\u001b[0m\n\u001b[0m\u001b[0;32m      4\u001b[0m     \u001b[0mprint\u001b[0m\u001b[1;33m(\u001b[0m\u001b[1;34mf\"Material Thickness: {ifc_material.Thickness}\"\u001b[0m\u001b[1;33m)\u001b[0m\u001b[1;33m\u001b[0m\u001b[1;33m\u001b[0m\u001b[0m\n",
      "\u001b[1;32mc:\\ProgramData\\Anaconda3\\lib\\site-packages\\ifcopenshell\\entity_instance.py\u001b[0m in \u001b[0;36m__getattr__\u001b[1;34m(self, name)\u001b[0m\n\u001b[0;32m    236\u001b[0m \u001b[1;33m\u001b[0m\u001b[0m\n\u001b[0;32m    237\u001b[0m         \u001b[1;32mif\u001b[0m \u001b[0mattr_cat\u001b[0m \u001b[1;33m!=\u001b[0m \u001b[0mFORWARD\u001b[0m\u001b[1;33m:\u001b[0m\u001b[1;33m\u001b[0m\u001b[1;33m\u001b[0m\u001b[0m\n\u001b[1;32m--> 238\u001b[1;33m             raise AttributeError(\n\u001b[0m\u001b[0;32m    239\u001b[0m                 \u001b[1;34m\"entity instance of type '%s' has no attribute '%s'\"\u001b[0m \u001b[1;33m%\u001b[0m \u001b[1;33m(\u001b[0m\u001b[0mself\u001b[0m\u001b[1;33m.\u001b[0m\u001b[0mwrapped_data\u001b[0m\u001b[1;33m.\u001b[0m\u001b[0mis_a\u001b[0m\u001b[1;33m(\u001b[0m\u001b[1;32mTrue\u001b[0m\u001b[1;33m)\u001b[0m\u001b[1;33m,\u001b[0m \u001b[0mname\u001b[0m\u001b[1;33m)\u001b[0m\u001b[1;33m\u001b[0m\u001b[1;33m\u001b[0m\u001b[0m\n\u001b[0;32m    240\u001b[0m             )\n",
      "\u001b[1;31mAttributeError\u001b[0m: entity instance of type 'IFC2X3.IfcMaterialList' has no attribute 'Name'"
     ]
    }
   ],
   "source": [
    "if ifc_material.is_a(\"IfcMaterial\"):\n",
    "    # If it's a single material, print its name and thickness\n",
    "    print(f\"Material Name: {ifc_material.Name}\")\n",
    "    print(f\"Material Thickness: {ifc_material.Thickness}\")"
   ]
  },
  {
   "cell_type": "code",
   "execution_count": 29,
   "id": "5458bcd1",
   "metadata": {},
   "outputs": [
    {
     "data": {
      "text/plain": [
       "#1309=IfcMaterialList((#146,#146))"
      ]
     },
     "execution_count": 29,
     "metadata": {},
     "output_type": "execute_result"
    }
   ],
   "source": [
    "ifc_material"
   ]
  },
  {
   "cell_type": "code",
   "execution_count": 5,
   "id": "19ff15e5",
   "metadata": {},
   "outputs": [
    {
     "data": {
      "text/plain": [
       "{'IfcApplication',\n",
       " 'IfcAxis2Placement2D',\n",
       " 'IfcAxis2Placement3D',\n",
       " 'IfcBooleanClippingResult',\n",
       " 'IfcBuilding',\n",
       " 'IfcBuildingElementProxy',\n",
       " 'IfcBuildingElementProxyType',\n",
       " 'IfcBuildingStorey',\n",
       " 'IfcCartesianPoint',\n",
       " 'IfcCartesianTransformationOperator3D',\n",
       " 'IfcCircleProfileDef',\n",
       " 'IfcClassification',\n",
       " 'IfcClosedShell',\n",
       " 'IfcColourRgb',\n",
       " 'IfcConnectedFaceSet',\n",
       " 'IfcConversionBasedUnit',\n",
       " 'IfcDerivedUnit',\n",
       " 'IfcDerivedUnitElement',\n",
       " 'IfcDimensionalExponents',\n",
       " 'IfcDirection',\n",
       " 'IfcDistributionPort',\n",
       " 'IfcExtrudedAreaSolid',\n",
       " 'IfcFace',\n",
       " 'IfcFaceBasedSurfaceModel',\n",
       " 'IfcFaceBound',\n",
       " 'IfcFaceOuterBound',\n",
       " 'IfcFacetedBrep',\n",
       " 'IfcFlowController',\n",
       " 'IfcFlowFitting',\n",
       " 'IfcFlowSegment',\n",
       " 'IfcGeometricRepresentationContext',\n",
       " 'IfcGeometricRepresentationSubContext',\n",
       " 'IfcLocalPlacement',\n",
       " 'IfcMappedItem',\n",
       " 'IfcMaterial',\n",
       " 'IfcMaterialDefinitionRepresentation',\n",
       " 'IfcMaterialLayer',\n",
       " 'IfcMaterialLayerSet',\n",
       " 'IfcMaterialLayerSetUsage',\n",
       " 'IfcMaterialList',\n",
       " 'IfcMeasureWithUnit',\n",
       " 'IfcOrganization',\n",
       " 'IfcOwnerHistory',\n",
       " 'IfcPerson',\n",
       " 'IfcPersonAndOrganization',\n",
       " 'IfcPipeFittingType',\n",
       " 'IfcPipeSegmentType',\n",
       " 'IfcPlane',\n",
       " 'IfcPolyLoop',\n",
       " 'IfcPolygonalBoundedHalfSpace',\n",
       " 'IfcPolyline',\n",
       " 'IfcPostalAddress',\n",
       " 'IfcPresentationLayerAssignment',\n",
       " 'IfcPresentationStyleAssignment',\n",
       " 'IfcProductDefinitionShape',\n",
       " 'IfcProject',\n",
       " 'IfcPropertyListValue',\n",
       " 'IfcPropertySet',\n",
       " 'IfcPropertySingleValue',\n",
       " 'IfcRectangleProfileDef',\n",
       " 'IfcRelAggregates',\n",
       " 'IfcRelAssignsToGroup',\n",
       " 'IfcRelAssociatesMaterial',\n",
       " 'IfcRelConnectsPathElements',\n",
       " 'IfcRelConnectsPortToElement',\n",
       " 'IfcRelConnectsPorts',\n",
       " 'IfcRelContainedInSpatialStructure',\n",
       " 'IfcRelDefinesByProperties',\n",
       " 'IfcRelDefinesByType',\n",
       " 'IfcRelServicesBuildings',\n",
       " 'IfcRepresentationMap',\n",
       " 'IfcSIUnit',\n",
       " 'IfcShapeRepresentation',\n",
       " 'IfcSite',\n",
       " 'IfcSlab',\n",
       " 'IfcSlabType',\n",
       " 'IfcStyledItem',\n",
       " 'IfcStyledRepresentation',\n",
       " 'IfcSurfaceStyle',\n",
       " 'IfcSurfaceStyleRendering',\n",
       " 'IfcSystem',\n",
       " 'IfcUnitAssignment',\n",
       " 'IfcValveType',\n",
       " 'IfcWallStandardCase',\n",
       " 'IfcWallType'}"
      ]
     },
     "execution_count": 5,
     "metadata": {},
     "output_type": "execute_result"
    }
   ],
   "source": [
    "types"
   ]
  },
  {
   "cell_type": "code",
   "execution_count": 1,
   "id": "aeb6b761",
   "metadata": {},
   "outputs": [],
   "source": [
    "from Utils.utils import convert_ifc_to_dae\n",
    "convert_ifc_to_dae('Sample/Fire Pump Room/Fire Pump Room Revit 2019.ifc','Sample/Fire Pump Room')"
   ]
  },
  {
   "cell_type": "code",
   "execution_count": null,
   "id": "e5e43ce2",
   "metadata": {},
   "outputs": [],
   "source": []
  }
 ],
 "metadata": {
  "kernelspec": {
   "display_name": "Python 3",
   "language": "python",
   "name": "python3"
  },
  "language_info": {
   "codemirror_mode": {
    "name": "ipython",
    "version": 3
   },
   "file_extension": ".py",
   "mimetype": "text/x-python",
   "name": "python",
   "nbconvert_exporter": "python",
   "pygments_lexer": "ipython3",
   "version": "3.12.5"
  }
 },
 "nbformat": 4,
 "nbformat_minor": 5
}
