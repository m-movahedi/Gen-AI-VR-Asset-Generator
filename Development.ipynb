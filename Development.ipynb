{
 "cells": [
  {
   "cell_type": "code",
   "execution_count": 1,
   "id": "d01b766b",
   "metadata": {},
   "outputs": [
    {
     "name": "stderr",
     "output_type": "stream",
     "text": [
      "<>:4: SyntaxWarning: invalid escape sequence '\\F'\n",
      "<>:4: SyntaxWarning: invalid escape sequence '\\F'\n",
      "C:\\Users\\moham\\AppData\\Local\\Temp\\ipykernel_75152\\40312743.py:4: SyntaxWarning: invalid escape sequence '\\F'\n",
      "  ifc_file = ifcopenshell.open('Sample\\Fire Pump Room\\Fire Pump Room Revit 2019.ifc')\n"
     ]
    },
    {
     "name": "stdout",
     "output_type": "stream",
     "text": [
      "Collecting ifcopenshell\n",
      "  Downloading ifcopenshell-0.8.2-py312-none-win_amd64.whl.metadata (11 kB)\n",
      "Requirement already satisfied: shapely in c:\\users\\moham\\appdata\\local\\programs\\python\\python312\\lib\\site-packages (from ifcopenshell) (2.0.6)\n",
      "Requirement already satisfied: numpy in c:\\users\\moham\\appdata\\local\\programs\\python\\python312\\lib\\site-packages (from ifcopenshell) (2.0.1)\n",
      "Collecting isodate (from ifcopenshell)\n",
      "  Downloading isodate-0.7.2-py3-none-any.whl.metadata (11 kB)\n",
      "Requirement already satisfied: python-dateutil in c:\\users\\moham\\appdata\\roaming\\python\\python312\\site-packages (from ifcopenshell) (2.9.0.post0)\n",
      "Collecting lark (from ifcopenshell)\n",
      "  Downloading lark-1.2.2-py3-none-any.whl.metadata (1.8 kB)\n",
      "Requirement already satisfied: typing-extensions in c:\\users\\moham\\appdata\\local\\programs\\python\\python312\\lib\\site-packages (from ifcopenshell) (4.12.2)\n",
      "Requirement already satisfied: six>=1.5 in c:\\users\\moham\\appdata\\roaming\\python\\python312\\site-packages (from python-dateutil->ifcopenshell) (1.16.0)\n",
      "Downloading ifcopenshell-0.8.2-py312-none-win_amd64.whl (21.5 MB)\n",
      "   ---------------------------------------- 0.0/21.5 MB ? eta -:--:--\n",
      "   ---------------------------------------- 0.0/21.5 MB ? eta -:--:--\n",
      "   ---------------------------------------- 0.0/21.5 MB ? eta -:--:--\n",
      "   ---------------------------------------- 0.0/21.5 MB ? eta -:--:--\n",
      "   ---------------------------------------- 0.0/21.5 MB ? eta -:--:--\n",
      "   ---------------------------------------- 0.0/21.5 MB ? eta -:--:--\n",
      "   ---------------------------------------- 0.0/21.5 MB ? eta -:--:--\n",
      "   ---------------------------------------- 0.0/21.5 MB ? eta -:--:--\n",
      "   ---------------------------------------- 0.0/21.5 MB ? eta -:--:--\n",
      "   ---------------------------------------- 0.3/21.5 MB ? eta -:--:--\n",
      "   ---------------------------------------- 0.3/21.5 MB ? eta -:--:--\n",
      "   ---------------------------------------- 0.3/21.5 MB ? eta -:--:--\n",
      "   ---------------------------------------- 0.3/21.5 MB ? eta -:--:--\n",
      "    --------------------------------------- 0.5/21.5 MB 311.0 kB/s eta 0:01:08\n",
      "    --------------------------------------- 0.5/21.5 MB 311.0 kB/s eta 0:01:08\n",
      "    --------------------------------------- 0.5/21.5 MB 311.0 kB/s eta 0:01:08\n",
      "    --------------------------------------- 0.5/21.5 MB 311.0 kB/s eta 0:01:08\n",
      "   - -------------------------------------- 0.8/21.5 MB 313.8 kB/s eta 0:01:06\n",
      "   - -------------------------------------- 0.8/21.5 MB 313.8 kB/s eta 0:01:06\n",
      "   - -------------------------------------- 0.8/21.5 MB 313.8 kB/s eta 0:01:06\n",
      "   - -------------------------------------- 0.8/21.5 MB 313.8 kB/s eta 0:01:06\n",
      "   - -------------------------------------- 1.0/21.5 MB 314.6 kB/s eta 0:01:05\n",
      "   - -------------------------------------- 1.0/21.5 MB 314.6 kB/s eta 0:01:05\n",
      "   - -------------------------------------- 1.0/21.5 MB 314.6 kB/s eta 0:01:05\n",
      "   - -------------------------------------- 1.0/21.5 MB 314.6 kB/s eta 0:01:05\n",
      "   - -------------------------------------- 1.0/21.5 MB 314.6 kB/s eta 0:01:05\n",
      "   -- ------------------------------------- 1.3/21.5 MB 293.1 kB/s eta 0:01:09\n",
      "   -- ------------------------------------- 1.6/21.5 MB 335.6 kB/s eta 0:01:00\n",
      "   -- ------------------------------------- 1.6/21.5 MB 335.6 kB/s eta 0:01:00\n",
      "   --- ------------------------------------ 1.8/21.5 MB 377.1 kB/s eta 0:00:53\n",
      "   --- ------------------------------------ 2.1/21.5 MB 412.1 kB/s eta 0:00:48\n",
      "   ---- ----------------------------------- 2.4/21.5 MB 452.0 kB/s eta 0:00:43\n",
      "   ---- ----------------------------------- 2.6/21.5 MB 482.5 kB/s eta 0:00:40\n",
      "   ----- ---------------------------------- 2.9/21.5 MB 516.2 kB/s eta 0:00:37\n",
      "   ----- ---------------------------------- 2.9/21.5 MB 516.2 kB/s eta 0:00:37\n",
      "   ----- ---------------------------------- 3.1/21.5 MB 521.3 kB/s eta 0:00:36\n",
      "   ----- ---------------------------------- 3.1/21.5 MB 521.3 kB/s eta 0:00:36\n",
      "   ------ --------------------------------- 3.4/21.5 MB 528.4 kB/s eta 0:00:35\n",
      "   ------ --------------------------------- 3.4/21.5 MB 528.4 kB/s eta 0:00:35\n",
      "   ------ --------------------------------- 3.7/21.5 MB 534.6 kB/s eta 0:00:34\n",
      "   ------- -------------------------------- 3.9/21.5 MB 555.3 kB/s eta 0:00:32\n",
      "   ------- -------------------------------- 3.9/21.5 MB 555.3 kB/s eta 0:00:32\n",
      "   ------- -------------------------------- 4.2/21.5 MB 573.3 kB/s eta 0:00:31\n",
      "   ------- -------------------------------- 4.2/21.5 MB 573.3 kB/s eta 0:00:31\n",
      "   ------- -------------------------------- 4.2/21.5 MB 573.3 kB/s eta 0:00:31\n",
      "   ------- -------------------------------- 4.2/21.5 MB 573.3 kB/s eta 0:00:31\n",
      "   ------- -------------------------------- 4.2/21.5 MB 573.3 kB/s eta 0:00:31\n",
      "   ------- -------------------------------- 4.2/21.5 MB 573.3 kB/s eta 0:00:31\n",
      "   -------- ------------------------------- 4.5/21.5 MB 512.3 kB/s eta 0:00:34\n",
      "   -------- ------------------------------- 4.5/21.5 MB 512.3 kB/s eta 0:00:34\n",
      "   -------- ------------------------------- 4.5/21.5 MB 512.3 kB/s eta 0:00:34\n",
      "   -------- ------------------------------- 4.5/21.5 MB 512.3 kB/s eta 0:00:34\n",
      "   -------- ------------------------------- 4.5/21.5 MB 512.3 kB/s eta 0:00:34\n",
      "   -------- ------------------------------- 4.5/21.5 MB 512.3 kB/s eta 0:00:34\n",
      "   -------- ------------------------------- 4.5/21.5 MB 512.3 kB/s eta 0:00:34\n",
      "   -------- ------------------------------- 4.7/21.5 MB 460.8 kB/s eta 0:00:37\n",
      "   -------- ------------------------------- 4.7/21.5 MB 460.8 kB/s eta 0:00:37\n",
      "   -------- ------------------------------- 4.7/21.5 MB 460.8 kB/s eta 0:00:37\n",
      "   -------- ------------------------------- 4.7/21.5 MB 460.8 kB/s eta 0:00:37\n",
      "   --------- ------------------------------ 5.0/21.5 MB 450.1 kB/s eta 0:00:37\n",
      "   --------- ------------------------------ 5.0/21.5 MB 450.1 kB/s eta 0:00:37\n",
      "   --------- ------------------------------ 5.2/21.5 MB 454.1 kB/s eta 0:00:36\n",
      "   --------- ------------------------------ 5.2/21.5 MB 454.1 kB/s eta 0:00:36\n",
      "   ---------- ----------------------------- 5.5/21.5 MB 457.8 kB/s eta 0:00:35\n",
      "   ---------- ----------------------------- 5.5/21.5 MB 457.8 kB/s eta 0:00:35\n",
      "   ---------- ----------------------------- 5.5/21.5 MB 457.8 kB/s eta 0:00:35\n",
      "   ---------- ----------------------------- 5.8/21.5 MB 462.4 kB/s eta 0:00:34\n",
      "   ----------- ---------------------------- 6.0/21.5 MB 470.8 kB/s eta 0:00:33\n",
      "   ----------- ---------------------------- 6.3/21.5 MB 484.2 kB/s eta 0:00:32\n",
      "   ------------ --------------------------- 6.6/21.5 MB 495.9 kB/s eta 0:00:31\n",
      "   ------------ --------------------------- 6.8/21.5 MB 508.4 kB/s eta 0:00:29\n",
      "   ------------ --------------------------- 6.8/21.5 MB 508.4 kB/s eta 0:00:29\n",
      "   ------------ --------------------------- 6.8/21.5 MB 508.4 kB/s eta 0:00:29\n",
      "   ------------- -------------------------- 7.1/21.5 MB 505.5 kB/s eta 0:00:29\n",
      "   ------------- -------------------------- 7.3/21.5 MB 518.3 kB/s eta 0:00:28\n",
      "   -------------- ------------------------- 7.6/21.5 MB 524.9 kB/s eta 0:00:27\n",
      "   -------------- ------------------------- 7.6/21.5 MB 524.9 kB/s eta 0:00:27\n",
      "   -------------- ------------------------- 7.9/21.5 MB 529.4 kB/s eta 0:00:26\n",
      "   --------------- ------------------------ 8.1/21.5 MB 540.1 kB/s eta 0:00:25\n",
      "   --------------- ------------------------ 8.4/21.5 MB 552.1 kB/s eta 0:00:24\n",
      "   ---------------- ----------------------- 8.9/21.5 MB 576.7 kB/s eta 0:00:22\n",
      "   ----------------- ---------------------- 9.4/21.5 MB 603.5 kB/s eta 0:00:20\n",
      "   ------------------ --------------------- 10.0/21.5 MB 626.4 kB/s eta 0:00:19\n",
      "   ------------------- -------------------- 10.2/21.5 MB 634.4 kB/s eta 0:00:18\n",
      "   ------------------- -------------------- 10.5/21.5 MB 644.0 kB/s eta 0:00:18\n",
      "   -------------------- ------------------- 11.0/21.5 MB 668.5 kB/s eta 0:00:16\n",
      "   -------------------- ------------------- 11.3/21.5 MB 678.9 kB/s eta 0:00:16\n",
      "   --------------------- ------------------ 11.8/21.5 MB 698.4 kB/s eta 0:00:14\n",
      "   ---------------------- ----------------- 12.3/21.5 MB 720.6 kB/s eta 0:00:13\n",
      "   ----------------------- ---------------- 12.6/21.5 MB 728.1 kB/s eta 0:00:13\n",
      "   ----------------------- ---------------- 12.8/21.5 MB 736.8 kB/s eta 0:00:12\n",
      "   ------------------------ --------------- 13.4/21.5 MB 755.8 kB/s eta 0:00:11\n",
      "   ------------------------- -------------- 13.9/21.5 MB 775.5 kB/s eta 0:00:10\n",
      "   -------------------------- ------------- 14.2/21.5 MB 780.7 kB/s eta 0:00:10\n",
      "   -------------------------- ------------- 14.4/21.5 MB 788.5 kB/s eta 0:00:09\n",
      "   --------------------------- ------------ 14.9/21.5 MB 805.1 kB/s eta 0:00:09\n",
      "   ---------------------------- ----------- 15.2/21.5 MB 815.3 kB/s eta 0:00:08\n",
      "   ----------------------------- ---------- 15.7/21.5 MB 831.8 kB/s eta 0:00:07\n",
      "   ----------------------------- ---------- 16.0/21.5 MB 839.6 kB/s eta 0:00:07\n",
      "   ------------------------------ --------- 16.3/21.5 MB 842.3 kB/s eta 0:00:07\n",
      "   ------------------------------ --------- 16.5/21.5 MB 845.7 kB/s eta 0:00:06\n",
      "   ------------------------------ --------- 16.5/21.5 MB 845.7 kB/s eta 0:00:06\n",
      "   ------------------------------- -------- 16.8/21.5 MB 838.2 kB/s eta 0:00:06\n",
      "   ------------------------------- -------- 17.0/21.5 MB 842.8 kB/s eta 0:00:06\n",
      "   ------------------------------- -------- 17.0/21.5 MB 842.8 kB/s eta 0:00:06\n",
      "   -------------------------------- ------- 17.3/21.5 MB 845.4 kB/s eta 0:00:05\n",
      "   --------------------------------- ------ 17.8/21.5 MB 856.8 kB/s eta 0:00:05\n",
      "   --------------------------------- ------ 18.1/21.5 MB 860.4 kB/s eta 0:00:04\n",
      "   ---------------------------------- ----- 18.4/21.5 MB 864.6 kB/s eta 0:00:04\n",
      "   ---------------------------------- ----- 18.4/21.5 MB 864.6 kB/s eta 0:00:04\n",
      "   ---------------------------------- ----- 18.6/21.5 MB 859.8 kB/s eta 0:00:04\n",
      "   ----------------------------------- ---- 18.9/21.5 MB 860.1 kB/s eta 0:00:04\n",
      "   ----------------------------------- ---- 19.1/21.5 MB 864.1 kB/s eta 0:00:03\n",
      "   ------------------------------------ --- 19.4/21.5 MB 868.6 kB/s eta 0:00:03\n",
      "   ------------------------------------ --- 19.7/21.5 MB 875.5 kB/s eta 0:00:03\n",
      "   ------------------------------------- -- 19.9/21.5 MB 879.3 kB/s eta 0:00:02\n",
      "   -------------------------------------- - 20.4/21.5 MB 889.7 kB/s eta 0:00:02\n",
      "   ---------------------------------------  21.0/21.5 MB 903.5 kB/s eta 0:00:01\n",
      "   ---------------------------------------  21.2/21.5 MB 908.7 kB/s eta 0:00:01\n",
      "   ---------------------------------------  21.2/21.5 MB 908.7 kB/s eta 0:00:01\n",
      "   ---------------------------------------- 21.5/21.5 MB 903.3 kB/s eta 0:00:00\n",
      "Downloading isodate-0.7.2-py3-none-any.whl (22 kB)\n",
      "Downloading lark-1.2.2-py3-none-any.whl (111 kB)\n",
      "Installing collected packages: lark, isodate, ifcopenshell\n",
      "Successfully installed ifcopenshell-0.8.2 isodate-0.7.2 lark-1.2.2\n"
     ]
    },
    {
     "name": "stderr",
     "output_type": "stream",
     "text": [
      "\n",
      "[notice] A new release of pip is available: 24.2 -> 25.1.1\n",
      "[notice] To update, run: python.exe -m pip install --upgrade pip\n"
     ]
    }
   ],
   "source": [
    "!pip install ifcopenshell\n",
    "\n",
    "import ifcopenshell\n",
    "ifc_file = ifcopenshell.open('Sample\\Fire Pump Room\\Fire Pump Room Revit 2019.ifc')\n",
    "types = set(entity.is_a() for entity in ifc_file)"
   ]
  },
  {
   "cell_type": "code",
   "execution_count": 2,
   "id": "39ea104f",
   "metadata": {},
   "outputs": [
    {
     "data": {
      "text/plain": [
       "{'id': 1308,\n",
       " 'type': 'IfcPipeFittingType',\n",
       " 'GlobalId': '1FI1NdEM92$x0VSADubA$O',\n",
       " 'OwnerHistory': #20=IfcOwnerHistory(#19,#2,$,.NOCHANGE.,$,$,$,1695462290),\n",
       " 'Name': 'NamBk_VAC_Steel_Elbow_Welded (Long_Short Radius):Long Radius',\n",
       " 'Description': None,\n",
       " 'ApplicableOccurrence': None,\n",
       " 'HasPropertySets': (#1330=IfcPropertySet('2FtbPhF6b8tjrf26iouZfM',#20,'Pset_ProductRequirements',$,(#1329)),),\n",
       " 'RepresentationMaps': (#1307=IfcRepresentationMap(#1306,#1305),),\n",
       " 'Tag': '933778',\n",
       " 'ElementType': None,\n",
       " 'PredefinedType': 'NOTDEFINED'}"
      ]
     },
     "execution_count": 2,
     "metadata": {},
     "output_type": "execute_result"
    }
   ],
   "source": [
    "type = 'IfcPipeFittingType'\n",
    "component = ifc_file.by_type(type)\n",
    "component[0].get_info()"
   ]
  },
  {
   "cell_type": "code",
   "execution_count": null,
   "id": "3767435e",
   "metadata": {},
   "outputs": [
    {
     "data": {
      "text/plain": [
       "[]"
      ]
     },
     "execution_count": 5,
     "metadata": {},
     "output_type": "execute_result"
    }
   ],
   "source": [
    "ifc_file."
   ]
  },
  {
   "cell_type": "code",
   "execution_count": 4,
   "id": "e7479eca",
   "metadata": {},
   "outputs": [
    {
     "data": {
      "text/plain": [
       "#1309=IfcMaterialList((#146,#146))"
      ]
     },
     "execution_count": 4,
     "metadata": {},
     "output_type": "execute_result"
    }
   ],
   "source": [
    "import ifcopenshell.util.element\n",
    "ifc_material = ifcopenshell.util.element.get_material(component[0])\n",
    "ifc_material"
   ]
  },
  {
   "cell_type": "code",
   "execution_count": null,
   "id": "6d492fbf",
   "metadata": {},
   "outputs": [
    {
     "ename": "AttributeError",
     "evalue": "entity instance of type 'IFC2X3.IfcMaterialList' has no attribute 'Name'",
     "output_type": "error",
     "traceback": [
      "\u001b[1;31m---------------------------------------------------------------------------\u001b[0m",
      "\u001b[1;31mAttributeError\u001b[0m                            Traceback (most recent call last)",
      "\u001b[1;32m~\\AppData\\Local\\Temp/ipykernel_2200/3906762348.py\u001b[0m in \u001b[0;36m<module>\u001b[1;34m\u001b[0m\n\u001b[0;32m      1\u001b[0m \u001b[1;32mif\u001b[0m \u001b[0mifc_material\u001b[0m\u001b[1;33m[\u001b[0m\u001b[1;36m0\u001b[0m\u001b[1;33m]\u001b[0m\u001b[1;33m[\u001b[0m\u001b[1;36m0\u001b[0m\u001b[1;33m]\u001b[0m\u001b[1;33m.\u001b[0m\u001b[0mis_a\u001b[0m\u001b[1;33m(\u001b[0m\u001b[1;34m\"IfcMaterial\"\u001b[0m\u001b[1;33m)\u001b[0m\u001b[1;33m:\u001b[0m\u001b[1;33m\u001b[0m\u001b[1;33m\u001b[0m\u001b[0m\n\u001b[0;32m      2\u001b[0m     \u001b[1;31m# If it's a single material, print its name and thickness\u001b[0m\u001b[1;33m\u001b[0m\u001b[1;33m\u001b[0m\u001b[0m\n\u001b[1;32m----> 3\u001b[1;33m     \u001b[0mprint\u001b[0m\u001b[1;33m(\u001b[0m\u001b[1;34mf\"Material Name: {ifc_material.Name}\"\u001b[0m\u001b[1;33m)\u001b[0m\u001b[1;33m\u001b[0m\u001b[1;33m\u001b[0m\u001b[0m\n\u001b[0m\u001b[0;32m      4\u001b[0m     \u001b[0mprint\u001b[0m\u001b[1;33m(\u001b[0m\u001b[1;34mf\"Material Thickness: {ifc_material.Thickness}\"\u001b[0m\u001b[1;33m)\u001b[0m\u001b[1;33m\u001b[0m\u001b[1;33m\u001b[0m\u001b[0m\n",
      "\u001b[1;32mc:\\ProgramData\\Anaconda3\\lib\\site-packages\\ifcopenshell\\entity_instance.py\u001b[0m in \u001b[0;36m__getattr__\u001b[1;34m(self, name)\u001b[0m\n\u001b[0;32m    236\u001b[0m \u001b[1;33m\u001b[0m\u001b[0m\n\u001b[0;32m    237\u001b[0m         \u001b[1;32mif\u001b[0m \u001b[0mattr_cat\u001b[0m \u001b[1;33m!=\u001b[0m \u001b[0mFORWARD\u001b[0m\u001b[1;33m:\u001b[0m\u001b[1;33m\u001b[0m\u001b[1;33m\u001b[0m\u001b[0m\n\u001b[1;32m--> 238\u001b[1;33m             raise AttributeError(\n\u001b[0m\u001b[0;32m    239\u001b[0m                 \u001b[1;34m\"entity instance of type '%s' has no attribute '%s'\"\u001b[0m \u001b[1;33m%\u001b[0m \u001b[1;33m(\u001b[0m\u001b[0mself\u001b[0m\u001b[1;33m.\u001b[0m\u001b[0mwrapped_data\u001b[0m\u001b[1;33m.\u001b[0m\u001b[0mis_a\u001b[0m\u001b[1;33m(\u001b[0m\u001b[1;32mTrue\u001b[0m\u001b[1;33m)\u001b[0m\u001b[1;33m,\u001b[0m \u001b[0mname\u001b[0m\u001b[1;33m)\u001b[0m\u001b[1;33m\u001b[0m\u001b[1;33m\u001b[0m\u001b[0m\n\u001b[0;32m    240\u001b[0m             )\n",
      "\u001b[1;31mAttributeError\u001b[0m: entity instance of type 'IFC2X3.IfcMaterialList' has no attribute 'Name'"
     ]
    }
   ],
   "source": [
    "if ifc_material.is_a(\"IfcMaterial\"):\n",
    "    # If it's a single material, print its name and thickness\n",
    "    print(f\"Material Name: {ifc_material.Name}\")\n",
    "    print(f\"Material Thickness: {ifc_material.Thickness}\")"
   ]
  },
  {
   "cell_type": "code",
   "execution_count": 29,
   "id": "5458bcd1",
   "metadata": {},
   "outputs": [
    {
     "data": {
      "text/plain": [
       "#1309=IfcMaterialList((#146,#146))"
      ]
     },
     "execution_count": 29,
     "metadata": {},
     "output_type": "execute_result"
    }
   ],
   "source": [
    "ifc_material"
   ]
  },
  {
   "cell_type": "code",
   "execution_count": 5,
   "id": "19ff15e5",
   "metadata": {},
   "outputs": [
    {
     "data": {
      "text/plain": [
       "{'IfcApplication',\n",
       " 'IfcAxis2Placement2D',\n",
       " 'IfcAxis2Placement3D',\n",
       " 'IfcBooleanClippingResult',\n",
       " 'IfcBuilding',\n",
       " 'IfcBuildingElementProxy',\n",
       " 'IfcBuildingElementProxyType',\n",
       " 'IfcBuildingStorey',\n",
       " 'IfcCartesianPoint',\n",
       " 'IfcCartesianTransformationOperator3D',\n",
       " 'IfcCircleProfileDef',\n",
       " 'IfcClassification',\n",
       " 'IfcClosedShell',\n",
       " 'IfcColourRgb',\n",
       " 'IfcConnectedFaceSet',\n",
       " 'IfcConversionBasedUnit',\n",
       " 'IfcDerivedUnit',\n",
       " 'IfcDerivedUnitElement',\n",
       " 'IfcDimensionalExponents',\n",
       " 'IfcDirection',\n",
       " 'IfcDistributionPort',\n",
       " 'IfcExtrudedAreaSolid',\n",
       " 'IfcFace',\n",
       " 'IfcFaceBasedSurfaceModel',\n",
       " 'IfcFaceBound',\n",
       " 'IfcFaceOuterBound',\n",
       " 'IfcFacetedBrep',\n",
       " 'IfcFlowController',\n",
       " 'IfcFlowFitting',\n",
       " 'IfcFlowSegment',\n",
       " 'IfcGeometricRepresentationContext',\n",
       " 'IfcGeometricRepresentationSubContext',\n",
       " 'IfcLocalPlacement',\n",
       " 'IfcMappedItem',\n",
       " 'IfcMaterial',\n",
       " 'IfcMaterialDefinitionRepresentation',\n",
       " 'IfcMaterialLayer',\n",
       " 'IfcMaterialLayerSet',\n",
       " 'IfcMaterialLayerSetUsage',\n",
       " 'IfcMaterialList',\n",
       " 'IfcMeasureWithUnit',\n",
       " 'IfcOrganization',\n",
       " 'IfcOwnerHistory',\n",
       " 'IfcPerson',\n",
       " 'IfcPersonAndOrganization',\n",
       " 'IfcPipeFittingType',\n",
       " 'IfcPipeSegmentType',\n",
       " 'IfcPlane',\n",
       " 'IfcPolyLoop',\n",
       " 'IfcPolygonalBoundedHalfSpace',\n",
       " 'IfcPolyline',\n",
       " 'IfcPostalAddress',\n",
       " 'IfcPresentationLayerAssignment',\n",
       " 'IfcPresentationStyleAssignment',\n",
       " 'IfcProductDefinitionShape',\n",
       " 'IfcProject',\n",
       " 'IfcPropertyListValue',\n",
       " 'IfcPropertySet',\n",
       " 'IfcPropertySingleValue',\n",
       " 'IfcRectangleProfileDef',\n",
       " 'IfcRelAggregates',\n",
       " 'IfcRelAssignsToGroup',\n",
       " 'IfcRelAssociatesMaterial',\n",
       " 'IfcRelConnectsPathElements',\n",
       " 'IfcRelConnectsPortToElement',\n",
       " 'IfcRelConnectsPorts',\n",
       " 'IfcRelContainedInSpatialStructure',\n",
       " 'IfcRelDefinesByProperties',\n",
       " 'IfcRelDefinesByType',\n",
       " 'IfcRelServicesBuildings',\n",
       " 'IfcRepresentationMap',\n",
       " 'IfcSIUnit',\n",
       " 'IfcShapeRepresentation',\n",
       " 'IfcSite',\n",
       " 'IfcSlab',\n",
       " 'IfcSlabType',\n",
       " 'IfcStyledItem',\n",
       " 'IfcStyledRepresentation',\n",
       " 'IfcSurfaceStyle',\n",
       " 'IfcSurfaceStyleRendering',\n",
       " 'IfcSystem',\n",
       " 'IfcUnitAssignment',\n",
       " 'IfcValveType',\n",
       " 'IfcWallStandardCase',\n",
       " 'IfcWallType'}"
      ]
     },
     "execution_count": 5,
     "metadata": {},
     "output_type": "execute_result"
    }
   ],
   "source": [
    "types"
   ]
  },
  {
   "cell_type": "code",
   "execution_count": 1,
   "id": "aeb6b761",
   "metadata": {},
   "outputs": [],
   "source": [
    "from Utils.utils import convert_ifc_to_dae\n",
    "convert_ifc_to_dae('Sample/Fire Pump Room/Fire Pump Room Revit 2019.ifc','Sample/Fire Pump Room')"
   ]
  },
  {
   "cell_type": "code",
   "execution_count": null,
   "id": "e5e43ce2",
   "metadata": {},
   "outputs": [],
   "source": [
    "import subprocess\n",
    "import os\n",
    "\n",
    "def convert_ifc_to_dae(ifc_file, dae_file_path):\n",
    "    cwd = os.getcwd()\n",
    "    try:\n",
    "\n",
    "        #make \n",
    "        dae_file_path = dae_file_path.replace('\\\\', '/')\n",
    "        ifc_file = ifc_file.replace('\\\\', '/')\n",
    "        dae_file_path = f\"{dae_file_path}/{ifc_file.split('.')[0]}.dae\"\n",
    "\n",
    "        #copy files\n",
    "\n",
    "        #temporary directory for conversion\n",
    "        os.chdir('./Utils')\n",
    "        os.makedirs('temp', exist_ok=True)\n",
    "        \n",
    "        # covnert ifc to dae using IfcConvert\n",
    "        command = ['./Utils/IfcConvert.exe', ifc_file, dae_file_path]\n",
    "        try:\n",
    "            result = subprocess.run(command, check=True, stdout=subprocess.PIPE, stderr=subprocess.PIPE, text=True)\n",
    "        except subprocess.CalledProcessError as e:\n",
    "            print(f\"Error converting IFC to DAE: {e.stderr}\")\n",
    "            pass\n",
    "        \n",
    "        # remove the temporary directory\n",
    "        \n",
    "        # move dae file to the destination directory\n",
    "\n",
    "    except:\n",
    "        pass\n",
    "    #change back to the original directory\n",
    "    os.chdir(cwd)\n"
   ]
  },
  {
   "cell_type": "code",
   "execution_count": 2,
   "id": "993bdad3",
   "metadata": {},
   "outputs": [
    {
     "ename": "KeyboardInterrupt",
     "evalue": "",
     "output_type": "error",
     "traceback": [
      "\u001b[1;31m---------------------------------------------------------------------------\u001b[0m",
      "\u001b[1;31mKeyboardInterrupt\u001b[0m                         Traceback (most recent call last)",
      "Cell \u001b[1;32mIn[2], line 1\u001b[0m\n\u001b[1;32m----> 1\u001b[0m \u001b[43mconvert_ifc_to_dae\u001b[49m\u001b[43m(\u001b[49m\u001b[38;5;124;43m'\u001b[39;49m\u001b[38;5;124;43mSample/Fire Pump Room/Fire Pump Room Revit 2019.ifc\u001b[39;49m\u001b[38;5;124;43m'\u001b[39;49m\u001b[43m,\u001b[49m\u001b[38;5;124;43m'\u001b[39;49m\u001b[38;5;124;43mSample/Fire Pump Room\u001b[39;49m\u001b[38;5;124;43m'\u001b[39;49m\u001b[43m)\u001b[49m\n",
      "Cell \u001b[1;32mIn[1], line 8\u001b[0m, in \u001b[0;36mconvert_ifc_to_dae\u001b[1;34m(ifc_file, dae_file_path)\u001b[0m\n\u001b[0;32m      6\u001b[0m command \u001b[38;5;241m=\u001b[39m [\u001b[38;5;124m'\u001b[39m\u001b[38;5;124m./Utils/IfcConvert.exe\u001b[39m\u001b[38;5;124m'\u001b[39m, ifc_file, dae_file_path]\n\u001b[0;32m      7\u001b[0m \u001b[38;5;28;01mtry\u001b[39;00m:\n\u001b[1;32m----> 8\u001b[0m     result \u001b[38;5;241m=\u001b[39m \u001b[43msubprocess\u001b[49m\u001b[38;5;241;43m.\u001b[39;49m\u001b[43mrun\u001b[49m\u001b[43m(\u001b[49m\u001b[43mcommand\u001b[49m\u001b[43m,\u001b[49m\u001b[43m \u001b[49m\u001b[43mcheck\u001b[49m\u001b[38;5;241;43m=\u001b[39;49m\u001b[38;5;28;43;01mTrue\u001b[39;49;00m\u001b[43m,\u001b[49m\u001b[43m \u001b[49m\u001b[43mstdout\u001b[49m\u001b[38;5;241;43m=\u001b[39;49m\u001b[43msubprocess\u001b[49m\u001b[38;5;241;43m.\u001b[39;49m\u001b[43mPIPE\u001b[49m\u001b[43m,\u001b[49m\u001b[43m \u001b[49m\u001b[43mstderr\u001b[49m\u001b[38;5;241;43m=\u001b[39;49m\u001b[43msubprocess\u001b[49m\u001b[38;5;241;43m.\u001b[39;49m\u001b[43mPIPE\u001b[49m\u001b[43m,\u001b[49m\u001b[43m \u001b[49m\u001b[43mtext\u001b[49m\u001b[38;5;241;43m=\u001b[39;49m\u001b[38;5;28;43;01mTrue\u001b[39;49;00m\u001b[43m)\u001b[49m\n\u001b[0;32m      9\u001b[0m \u001b[38;5;28;01mexcept\u001b[39;00m subprocess\u001b[38;5;241m.\u001b[39mCalledProcessError \u001b[38;5;28;01mas\u001b[39;00m e:\n\u001b[0;32m     10\u001b[0m     \u001b[38;5;28mprint\u001b[39m(\u001b[38;5;124mf\u001b[39m\u001b[38;5;124m\"\u001b[39m\u001b[38;5;124mError converting IFC to DAE: \u001b[39m\u001b[38;5;132;01m{\u001b[39;00me\u001b[38;5;241m.\u001b[39mstderr\u001b[38;5;132;01m}\u001b[39;00m\u001b[38;5;124m\"\u001b[39m)\n",
      "File \u001b[1;32mc:\\Users\\moham\\AppData\\Local\\Programs\\Python\\Python312\\Lib\\subprocess.py:550\u001b[0m, in \u001b[0;36mrun\u001b[1;34m(input, capture_output, timeout, check, *popenargs, **kwargs)\u001b[0m\n\u001b[0;32m    548\u001b[0m \u001b[38;5;28;01mwith\u001b[39;00m Popen(\u001b[38;5;241m*\u001b[39mpopenargs, \u001b[38;5;241m*\u001b[39m\u001b[38;5;241m*\u001b[39mkwargs) \u001b[38;5;28;01mas\u001b[39;00m process:\n\u001b[0;32m    549\u001b[0m     \u001b[38;5;28;01mtry\u001b[39;00m:\n\u001b[1;32m--> 550\u001b[0m         stdout, stderr \u001b[38;5;241m=\u001b[39m \u001b[43mprocess\u001b[49m\u001b[38;5;241;43m.\u001b[39;49m\u001b[43mcommunicate\u001b[49m\u001b[43m(\u001b[49m\u001b[38;5;28;43minput\u001b[39;49m\u001b[43m,\u001b[49m\u001b[43m \u001b[49m\u001b[43mtimeout\u001b[49m\u001b[38;5;241;43m=\u001b[39;49m\u001b[43mtimeout\u001b[49m\u001b[43m)\u001b[49m\n\u001b[0;32m    551\u001b[0m     \u001b[38;5;28;01mexcept\u001b[39;00m TimeoutExpired \u001b[38;5;28;01mas\u001b[39;00m exc:\n\u001b[0;32m    552\u001b[0m         process\u001b[38;5;241m.\u001b[39mkill()\n",
      "File \u001b[1;32mc:\\Users\\moham\\AppData\\Local\\Programs\\Python\\Python312\\Lib\\subprocess.py:1209\u001b[0m, in \u001b[0;36mPopen.communicate\u001b[1;34m(self, input, timeout)\u001b[0m\n\u001b[0;32m   1206\u001b[0m     endtime \u001b[38;5;241m=\u001b[39m \u001b[38;5;28;01mNone\u001b[39;00m\n\u001b[0;32m   1208\u001b[0m \u001b[38;5;28;01mtry\u001b[39;00m:\n\u001b[1;32m-> 1209\u001b[0m     stdout, stderr \u001b[38;5;241m=\u001b[39m \u001b[38;5;28;43mself\u001b[39;49m\u001b[38;5;241;43m.\u001b[39;49m\u001b[43m_communicate\u001b[49m\u001b[43m(\u001b[49m\u001b[38;5;28;43minput\u001b[39;49m\u001b[43m,\u001b[49m\u001b[43m \u001b[49m\u001b[43mendtime\u001b[49m\u001b[43m,\u001b[49m\u001b[43m \u001b[49m\u001b[43mtimeout\u001b[49m\u001b[43m)\u001b[49m\n\u001b[0;32m   1210\u001b[0m \u001b[38;5;28;01mexcept\u001b[39;00m \u001b[38;5;167;01mKeyboardInterrupt\u001b[39;00m:\n\u001b[0;32m   1211\u001b[0m     \u001b[38;5;66;03m# https://bugs.python.org/issue25942\u001b[39;00m\n\u001b[0;32m   1212\u001b[0m     \u001b[38;5;66;03m# See the detailed comment in .wait().\u001b[39;00m\n\u001b[0;32m   1213\u001b[0m     \u001b[38;5;28;01mif\u001b[39;00m timeout \u001b[38;5;129;01mis\u001b[39;00m \u001b[38;5;129;01mnot\u001b[39;00m \u001b[38;5;28;01mNone\u001b[39;00m:\n",
      "File \u001b[1;32mc:\\Users\\moham\\AppData\\Local\\Programs\\Python\\Python312\\Lib\\subprocess.py:1628\u001b[0m, in \u001b[0;36mPopen._communicate\u001b[1;34m(self, input, endtime, orig_timeout)\u001b[0m\n\u001b[0;32m   1624\u001b[0m \u001b[38;5;66;03m# Wait for the reader threads, or time out.  If we time out, the\u001b[39;00m\n\u001b[0;32m   1625\u001b[0m \u001b[38;5;66;03m# threads remain reading and the fds left open in case the user\u001b[39;00m\n\u001b[0;32m   1626\u001b[0m \u001b[38;5;66;03m# calls communicate again.\u001b[39;00m\n\u001b[0;32m   1627\u001b[0m \u001b[38;5;28;01mif\u001b[39;00m \u001b[38;5;28mself\u001b[39m\u001b[38;5;241m.\u001b[39mstdout \u001b[38;5;129;01mis\u001b[39;00m \u001b[38;5;129;01mnot\u001b[39;00m \u001b[38;5;28;01mNone\u001b[39;00m:\n\u001b[1;32m-> 1628\u001b[0m     \u001b[38;5;28;43mself\u001b[39;49m\u001b[38;5;241;43m.\u001b[39;49m\u001b[43mstdout_thread\u001b[49m\u001b[38;5;241;43m.\u001b[39;49m\u001b[43mjoin\u001b[49m\u001b[43m(\u001b[49m\u001b[38;5;28;43mself\u001b[39;49m\u001b[38;5;241;43m.\u001b[39;49m\u001b[43m_remaining_time\u001b[49m\u001b[43m(\u001b[49m\u001b[43mendtime\u001b[49m\u001b[43m)\u001b[49m\u001b[43m)\u001b[49m\n\u001b[0;32m   1629\u001b[0m     \u001b[38;5;28;01mif\u001b[39;00m \u001b[38;5;28mself\u001b[39m\u001b[38;5;241m.\u001b[39mstdout_thread\u001b[38;5;241m.\u001b[39mis_alive():\n\u001b[0;32m   1630\u001b[0m         \u001b[38;5;28;01mraise\u001b[39;00m TimeoutExpired(\u001b[38;5;28mself\u001b[39m\u001b[38;5;241m.\u001b[39margs, orig_timeout)\n",
      "File \u001b[1;32mc:\\Users\\moham\\AppData\\Local\\Programs\\Python\\Python312\\Lib\\threading.py:1149\u001b[0m, in \u001b[0;36mThread.join\u001b[1;34m(self, timeout)\u001b[0m\n\u001b[0;32m   1146\u001b[0m     \u001b[38;5;28;01mraise\u001b[39;00m \u001b[38;5;167;01mRuntimeError\u001b[39;00m(\u001b[38;5;124m\"\u001b[39m\u001b[38;5;124mcannot join current thread\u001b[39m\u001b[38;5;124m\"\u001b[39m)\n\u001b[0;32m   1148\u001b[0m \u001b[38;5;28;01mif\u001b[39;00m timeout \u001b[38;5;129;01mis\u001b[39;00m \u001b[38;5;28;01mNone\u001b[39;00m:\n\u001b[1;32m-> 1149\u001b[0m     \u001b[38;5;28;43mself\u001b[39;49m\u001b[38;5;241;43m.\u001b[39;49m\u001b[43m_wait_for_tstate_lock\u001b[49m\u001b[43m(\u001b[49m\u001b[43m)\u001b[49m\n\u001b[0;32m   1150\u001b[0m \u001b[38;5;28;01melse\u001b[39;00m:\n\u001b[0;32m   1151\u001b[0m     \u001b[38;5;66;03m# the behavior of a negative timeout isn't documented, but\u001b[39;00m\n\u001b[0;32m   1152\u001b[0m     \u001b[38;5;66;03m# historically .join(timeout=x) for x<0 has acted as if timeout=0\u001b[39;00m\n\u001b[0;32m   1153\u001b[0m     \u001b[38;5;28mself\u001b[39m\u001b[38;5;241m.\u001b[39m_wait_for_tstate_lock(timeout\u001b[38;5;241m=\u001b[39m\u001b[38;5;28mmax\u001b[39m(timeout, \u001b[38;5;241m0\u001b[39m))\n",
      "File \u001b[1;32mc:\\Users\\moham\\AppData\\Local\\Programs\\Python\\Python312\\Lib\\threading.py:1169\u001b[0m, in \u001b[0;36mThread._wait_for_tstate_lock\u001b[1;34m(self, block, timeout)\u001b[0m\n\u001b[0;32m   1166\u001b[0m     \u001b[38;5;28;01mreturn\u001b[39;00m\n\u001b[0;32m   1168\u001b[0m \u001b[38;5;28;01mtry\u001b[39;00m:\n\u001b[1;32m-> 1169\u001b[0m     \u001b[38;5;28;01mif\u001b[39;00m \u001b[43mlock\u001b[49m\u001b[38;5;241;43m.\u001b[39;49m\u001b[43macquire\u001b[49m\u001b[43m(\u001b[49m\u001b[43mblock\u001b[49m\u001b[43m,\u001b[49m\u001b[43m \u001b[49m\u001b[43mtimeout\u001b[49m\u001b[43m)\u001b[49m:\n\u001b[0;32m   1170\u001b[0m         lock\u001b[38;5;241m.\u001b[39mrelease()\n\u001b[0;32m   1171\u001b[0m         \u001b[38;5;28mself\u001b[39m\u001b[38;5;241m.\u001b[39m_stop()\n",
      "\u001b[1;31mKeyboardInterrupt\u001b[0m: "
     ]
    }
   ],
   "source": [
    "convert_ifc_to_dae('Sample/Fire Pump Room/Fire Pump Room Revit 2019.ifc','Sample/Fire Pump Room')"
   ]
  },
  {
   "cell_type": "code",
   "execution_count": null,
   "id": "2c3905a0",
   "metadata": {},
   "outputs": [],
   "source": []
  }
 ],
 "metadata": {
  "kernelspec": {
   "display_name": "Python 3",
   "language": "python",
   "name": "python3"
  },
  "language_info": {
   "codemirror_mode": {
    "name": "ipython",
    "version": 3
   },
   "file_extension": ".py",
   "mimetype": "text/x-python",
   "name": "python",
   "nbconvert_exporter": "python",
   "pygments_lexer": "ipython3",
   "version": "3.12.5"
  }
 },
 "nbformat": 4,
 "nbformat_minor": 5
}
