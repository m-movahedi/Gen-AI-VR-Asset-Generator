{
 "cells": [
  {
   "cell_type": "code",
   "execution_count": 1,
   "id": "d01b766b",
   "metadata": {},
   "outputs": [
    {
     "name": "stdout",
     "output_type": "stream",
     "text": [
      "Requirement already satisfied: ifcopenshell in c:\\programdata\\anaconda3\\lib\\site-packages (0.8.2)\n",
      "Requirement already satisfied: lark in c:\\programdata\\anaconda3\\lib\\site-packages (from ifcopenshell) (1.2.2)\n",
      "Requirement already satisfied: isodate in c:\\programdata\\anaconda3\\lib\\site-packages (from ifcopenshell) (0.7.2)\n",
      "Requirement already satisfied: numpy in c:\\programdata\\anaconda3\\lib\\site-packages (from ifcopenshell) (2.0.2)\n",
      "Requirement already satisfied: shapely in c:\\programdata\\anaconda3\\lib\\site-packages (from ifcopenshell) (2.0.7)\n",
      "Requirement already satisfied: python-dateutil in c:\\programdata\\anaconda3\\lib\\site-packages (from ifcopenshell) (2.8.2)\n",
      "Requirement already satisfied: typing-extensions in c:\\programdata\\anaconda3\\lib\\site-packages (from ifcopenshell) (3.10.0.2)\n",
      "Requirement already satisfied: six>=1.5 in c:\\programdata\\anaconda3\\lib\\site-packages (from python-dateutil->ifcopenshell) (1.16.0)\n"
     ]
    }
   ],
   "source": [
    "!pip install ifcopenshell\n",
    "\n",
    "import ifcopenshell\n",
    "ifc_file = ifcopenshell.open('Sample\\Fire Pump Room\\Fire Pump Room Revit 2019.ifc')\n",
    "types = set(entity.is_a() for entity in ifc_file)"
   ]
  },
  {
   "cell_type": "code",
   "execution_count": 6,
   "id": "39ea104f",
   "metadata": {},
   "outputs": [
    {
     "data": {
      "text/plain": [
       "{'id': 1308,\n",
       " 'type': 'IfcPipeFittingType',\n",
       " 'GlobalId': '1FI1NdEM92$x0VSADubA$O',\n",
       " 'OwnerHistory': #20=IfcOwnerHistory(#19,#2,$,.NOCHANGE.,$,$,$,1695462290),\n",
       " 'Name': 'NamBk_VAC_Steel_Elbow_Welded (Long_Short Radius):Long Radius',\n",
       " 'Description': None,\n",
       " 'ApplicableOccurrence': None,\n",
       " 'HasPropertySets': (#1330=IfcPropertySet('2FtbPhF6b8tjrf26iouZfM',#20,'Pset_ProductRequirements',$,(#1329)),),\n",
       " 'RepresentationMaps': (#1307=IfcRepresentationMap(#1306,#1305),),\n",
       " 'Tag': '933778',\n",
       " 'ElementType': None,\n",
       " 'PredefinedType': 'NOTDEFINED'}"
      ]
     },
     "execution_count": 6,
     "metadata": {},
     "output_type": "execute_result"
    }
   ],
   "source": [
    "type = 'IfcPipeFittingType'\n",
    "component = ifc_file.by_type(type)\n",
    "component[0].get_info()"
   ]
  },
  {
   "cell_type": "code",
   "execution_count": 15,
   "id": "e7479eca",
   "metadata": {},
   "outputs": [],
   "source": [
    "import ifcopenshell.util.element\n",
    "ifc_material = ifcopenshell.util.element.get_material(component[0])"
   ]
  },
  {
   "cell_type": "code",
   "execution_count": null,
   "id": "6d492fbf",
   "metadata": {},
   "outputs": [
    {
     "ename": "AttributeError",
     "evalue": "entity instance of type 'IFC2X3.IfcMaterialList' has no attribute 'Name'",
     "output_type": "error",
     "traceback": [
      "\u001b[1;31m---------------------------------------------------------------------------\u001b[0m",
      "\u001b[1;31mAttributeError\u001b[0m                            Traceback (most recent call last)",
      "\u001b[1;32m~\\AppData\\Local\\Temp/ipykernel_2200/3906762348.py\u001b[0m in \u001b[0;36m<module>\u001b[1;34m\u001b[0m\n\u001b[0;32m      1\u001b[0m \u001b[1;32mif\u001b[0m \u001b[0mifc_material\u001b[0m\u001b[1;33m[\u001b[0m\u001b[1;36m0\u001b[0m\u001b[1;33m]\u001b[0m\u001b[1;33m[\u001b[0m\u001b[1;36m0\u001b[0m\u001b[1;33m]\u001b[0m\u001b[1;33m.\u001b[0m\u001b[0mis_a\u001b[0m\u001b[1;33m(\u001b[0m\u001b[1;34m\"IfcMaterial\"\u001b[0m\u001b[1;33m)\u001b[0m\u001b[1;33m:\u001b[0m\u001b[1;33m\u001b[0m\u001b[1;33m\u001b[0m\u001b[0m\n\u001b[0;32m      2\u001b[0m     \u001b[1;31m# If it's a single material, print its name and thickness\u001b[0m\u001b[1;33m\u001b[0m\u001b[1;33m\u001b[0m\u001b[0m\n\u001b[1;32m----> 3\u001b[1;33m     \u001b[0mprint\u001b[0m\u001b[1;33m(\u001b[0m\u001b[1;34mf\"Material Name: {ifc_material.Name}\"\u001b[0m\u001b[1;33m)\u001b[0m\u001b[1;33m\u001b[0m\u001b[1;33m\u001b[0m\u001b[0m\n\u001b[0m\u001b[0;32m      4\u001b[0m     \u001b[0mprint\u001b[0m\u001b[1;33m(\u001b[0m\u001b[1;34mf\"Material Thickness: {ifc_material.Thickness}\"\u001b[0m\u001b[1;33m)\u001b[0m\u001b[1;33m\u001b[0m\u001b[1;33m\u001b[0m\u001b[0m\n",
      "\u001b[1;32mc:\\ProgramData\\Anaconda3\\lib\\site-packages\\ifcopenshell\\entity_instance.py\u001b[0m in \u001b[0;36m__getattr__\u001b[1;34m(self, name)\u001b[0m\n\u001b[0;32m    236\u001b[0m \u001b[1;33m\u001b[0m\u001b[0m\n\u001b[0;32m    237\u001b[0m         \u001b[1;32mif\u001b[0m \u001b[0mattr_cat\u001b[0m \u001b[1;33m!=\u001b[0m \u001b[0mFORWARD\u001b[0m\u001b[1;33m:\u001b[0m\u001b[1;33m\u001b[0m\u001b[1;33m\u001b[0m\u001b[0m\n\u001b[1;32m--> 238\u001b[1;33m             raise AttributeError(\n\u001b[0m\u001b[0;32m    239\u001b[0m                 \u001b[1;34m\"entity instance of type '%s' has no attribute '%s'\"\u001b[0m \u001b[1;33m%\u001b[0m \u001b[1;33m(\u001b[0m\u001b[0mself\u001b[0m\u001b[1;33m.\u001b[0m\u001b[0mwrapped_data\u001b[0m\u001b[1;33m.\u001b[0m\u001b[0mis_a\u001b[0m\u001b[1;33m(\u001b[0m\u001b[1;32mTrue\u001b[0m\u001b[1;33m)\u001b[0m\u001b[1;33m,\u001b[0m \u001b[0mname\u001b[0m\u001b[1;33m)\u001b[0m\u001b[1;33m\u001b[0m\u001b[1;33m\u001b[0m\u001b[0m\n\u001b[0;32m    240\u001b[0m             )\n",
      "\u001b[1;31mAttributeError\u001b[0m: entity instance of type 'IFC2X3.IfcMaterialList' has no attribute 'Name'"
     ]
    }
   ],
   "source": [
    "if ifc_material.is_a(\"IfcMaterial\"):\n",
    "    # If it's a single material, print its name and thickness\n",
    "    print(f\"Material Name: {ifc_material.Name}\")\n",
    "    print(f\"Material Thickness: {ifc_material.Thickness}\")"
   ]
  },
  {
   "cell_type": "code",
   "execution_count": 29,
   "id": "5458bcd1",
   "metadata": {},
   "outputs": [
    {
     "data": {
      "text/plain": [
       "#1309=IfcMaterialList((#146,#146))"
      ]
     },
     "execution_count": 29,
     "metadata": {},
     "output_type": "execute_result"
    }
   ],
   "source": [
    "ifc_material"
   ]
  },
  {
   "cell_type": "code",
   "execution_count": 5,
   "id": "19ff15e5",
   "metadata": {},
   "outputs": [
    {
     "data": {
      "text/plain": [
       "{'IfcApplication',\n",
       " 'IfcAxis2Placement2D',\n",
       " 'IfcAxis2Placement3D',\n",
       " 'IfcBooleanClippingResult',\n",
       " 'IfcBuilding',\n",
       " 'IfcBuildingElementProxy',\n",
       " 'IfcBuildingElementProxyType',\n",
       " 'IfcBuildingStorey',\n",
       " 'IfcCartesianPoint',\n",
       " 'IfcCartesianTransformationOperator3D',\n",
       " 'IfcCircleProfileDef',\n",
       " 'IfcClassification',\n",
       " 'IfcClosedShell',\n",
       " 'IfcColourRgb',\n",
       " 'IfcConnectedFaceSet',\n",
       " 'IfcConversionBasedUnit',\n",
       " 'IfcDerivedUnit',\n",
       " 'IfcDerivedUnitElement',\n",
       " 'IfcDimensionalExponents',\n",
       " 'IfcDirection',\n",
       " 'IfcDistributionPort',\n",
       " 'IfcExtrudedAreaSolid',\n",
       " 'IfcFace',\n",
       " 'IfcFaceBasedSurfaceModel',\n",
       " 'IfcFaceBound',\n",
       " 'IfcFaceOuterBound',\n",
       " 'IfcFacetedBrep',\n",
       " 'IfcFlowController',\n",
       " 'IfcFlowFitting',\n",
       " 'IfcFlowSegment',\n",
       " 'IfcGeometricRepresentationContext',\n",
       " 'IfcGeometricRepresentationSubContext',\n",
       " 'IfcLocalPlacement',\n",
       " 'IfcMappedItem',\n",
       " 'IfcMaterial',\n",
       " 'IfcMaterialDefinitionRepresentation',\n",
       " 'IfcMaterialLayer',\n",
       " 'IfcMaterialLayerSet',\n",
       " 'IfcMaterialLayerSetUsage',\n",
       " 'IfcMaterialList',\n",
       " 'IfcMeasureWithUnit',\n",
       " 'IfcOrganization',\n",
       " 'IfcOwnerHistory',\n",
       " 'IfcPerson',\n",
       " 'IfcPersonAndOrganization',\n",
       " 'IfcPipeFittingType',\n",
       " 'IfcPipeSegmentType',\n",
       " 'IfcPlane',\n",
       " 'IfcPolyLoop',\n",
       " 'IfcPolygonalBoundedHalfSpace',\n",
       " 'IfcPolyline',\n",
       " 'IfcPostalAddress',\n",
       " 'IfcPresentationLayerAssignment',\n",
       " 'IfcPresentationStyleAssignment',\n",
       " 'IfcProductDefinitionShape',\n",
       " 'IfcProject',\n",
       " 'IfcPropertyListValue',\n",
       " 'IfcPropertySet',\n",
       " 'IfcPropertySingleValue',\n",
       " 'IfcRectangleProfileDef',\n",
       " 'IfcRelAggregates',\n",
       " 'IfcRelAssignsToGroup',\n",
       " 'IfcRelAssociatesMaterial',\n",
       " 'IfcRelConnectsPathElements',\n",
       " 'IfcRelConnectsPortToElement',\n",
       " 'IfcRelConnectsPorts',\n",
       " 'IfcRelContainedInSpatialStructure',\n",
       " 'IfcRelDefinesByProperties',\n",
       " 'IfcRelDefinesByType',\n",
       " 'IfcRelServicesBuildings',\n",
       " 'IfcRepresentationMap',\n",
       " 'IfcSIUnit',\n",
       " 'IfcShapeRepresentation',\n",
       " 'IfcSite',\n",
       " 'IfcSlab',\n",
       " 'IfcSlabType',\n",
       " 'IfcStyledItem',\n",
       " 'IfcStyledRepresentation',\n",
       " 'IfcSurfaceStyle',\n",
       " 'IfcSurfaceStyleRendering',\n",
       " 'IfcSystem',\n",
       " 'IfcUnitAssignment',\n",
       " 'IfcValveType',\n",
       " 'IfcWallStandardCase',\n",
       " 'IfcWallType'}"
      ]
     },
     "execution_count": 5,
     "metadata": {},
     "output_type": "execute_result"
    }
   ],
   "source": [
    "types"
   ]
  },
  {
   "cell_type": "code",
   "execution_count": null,
   "id": "aeb6b761",
   "metadata": {},
   "outputs": [],
   "source": []
  }
 ],
 "metadata": {
  "kernelspec": {
   "display_name": "base",
   "language": "python",
   "name": "python3"
  },
  "language_info": {
   "codemirror_mode": {
    "name": "ipython",
    "version": 3
   },
   "file_extension": ".py",
   "mimetype": "text/x-python",
   "name": "python",
   "nbconvert_exporter": "python",
   "pygments_lexer": "ipython3",
   "version": "3.9.7"
  }
 },
 "nbformat": 4,
 "nbformat_minor": 5
}
